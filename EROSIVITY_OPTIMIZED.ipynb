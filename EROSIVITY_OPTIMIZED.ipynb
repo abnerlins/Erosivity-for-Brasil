{
  "nbformat": 4,
  "nbformat_minor": 0,
  "metadata": {
    "colab": {
      "provenance": [],
      "authorship_tag": "ABX9TyPzh5Z3Ee46YPYIvRqrJDZ9",
      "include_colab_link": true
    },
    "kernelspec": {
      "name": "python3",
      "display_name": "Python 3"
    },
    "language_info": {
      "name": "python"
    }
  },
  "cells": [
    {
      "cell_type": "markdown",
      "metadata": {
        "id": "view-in-github",
        "colab_type": "text"
      },
      "source": [
        "<a href=\"https://colab.research.google.com/github/abnerlins/Erosivity-for-Brasil/blob/main/EROSIVITY_OPTIMIZED.ipynb\" target=\"_parent\"><img src=\"https://colab.research.google.com/assets/colab-badge.svg\" alt=\"Open In Colab\"/></a>"
      ]
    },
    {
      "cell_type": "code",
      "execution_count": null,
      "metadata": {
        "colab": {
          "base_uri": "https://localhost:8080/"
        },
        "id": "ne6yc9O7ga4c",
        "outputId": "ba99225e-31e8-410e-f283-689d6adc98aa"
      },
      "outputs": [
        {
          "output_type": "stream",
          "name": "stdout",
          "text": [
            "Mounted at /content/drive\n"
          ]
        }
      ],
      "source": [
        "import pandas as pd\n",
        "import warnings\n",
        "import math\n",
        "from matplotlib import pyplot as plt\n",
        "from datetime import datetime\n",
        "import sys\n",
        "import numpy as np\n",
        "from google.colab import drive\n",
        "# Monta o Google Drive\n",
        "drive.mount('/content/drive')\n",
        "import warnings\n",
        "# Ignora todos os warnings\n",
        "warnings.filterwarnings('ignore')"
      ]
    },
    {
      "cell_type": "code",
      "source": [
        "states = ['TO']\n",
        "years = [2016]\n",
        "\n",
        "# general path\n",
        "general_path = '/content/drive/My Drive/MESTRADO/Results_Cemaden'\n",
        "mit_int=360\n",
        "\n",
        "\n",
        "pd.set_option('display.max_rows', 1000)\n",
        "pd.set_option('display.max_columns', None)\n",
        "#LISTA DE HQ\n",
        "\n",
        "df_cem_hq=pd.read_csv(general_path+'/Estacoes_Alta_Qualidade_da_Analise_Visual.csv',sep=';')"
      ],
      "metadata": {
        "id": "aG9ziVhmhFPd"
      },
      "execution_count": null,
      "outputs": []
    },
    {
      "cell_type": "code",
      "source": [],
      "metadata": {
        "id": "SgUQ9-yijMad"
      },
      "execution_count": null,
      "outputs": []
    },
    {
      "cell_type": "code",
      "source": [
        "for state in states:\n",
        "    for year in years:\n",
        "        start_time = datetime.now()\n",
        "        mit=pd.Timedelta(mit_int, unit ='m')\n",
        "        name_file= state+ '_'+ str(year)+'.h5'\n",
        "        name_col= state+ '_ '+ str(year)\n",
        "        print(f\"Começando : {name_col} {start_time}\")\n",
        "        df_rainfall = pd.read_hdf(general_path +'/1 - Organized data/'+ name_file,'table_data')\n",
        "        data = {\"gauge_code\": [],\"EI30_T\": [],\"E_D\": []}\n",
        "        for code in df_cem_hq[name_col][:-1].dropna():\n",
        "            start_time_code = datetime.now()\n",
        "            name=code +'_' + str(mit_int)\n",
        "            df_rainfall_events = pd.read_hdf(general_path + '/3 - Rainfall events/'+ name_file, name)\n",
        "            df_partial_result = pd.DataFrame(columns=['rain_mm','duration', 'I30', 'RF_KE', 'EI30'])\n",
        "            for evento in range(0,len(df_rainfall_events)):\n",
        "                beg=df_rainfall_events.iloc[evento,1]\n",
        "                end=df_rainfall_events.iloc[evento,1]+pd.Timedelta(hours=df_rainfall_events.iloc[evento,3])\n",
        "                df_gauge_rainfall=df_rainfall[df_rainfall['gauge_code']==code]\n",
        "                df_event = df_gauge_rainfall[(df_gauge_rainfall['datetime'] >= beg) & (df_gauge_rainfall['datetime'] <= end)].reset_index(drop=True)\n",
        "                for i in df_event.index:\n",
        "                    RF=df_event['rain_mm'][i] #mm\n",
        "                    RF_intensity=(RF/10)*60 #mm/h  ###tdel\n",
        "                    #kinectic energy\n",
        "                    if RF==0:KE=0\n",
        "                    else:\n",
        "                        KE=0.119+0.0873*math.log(RF_intensity,10)  #KE= 1099*(1-0.72*math.exp(-2.088*RF_intensity)) ##MJ/ha.mm\n",
        "                        RF_KE=KE*RF#MJ/ha\n",
        "                        if (KE > 0.283) :KE= 0.283\n",
        "\n",
        "                        tbeg=df_event.iloc[i,3] #df_temp é para os 30 min de análise para o i30\n",
        "                        tend=df_event.iloc[i,3]+pd.Timedelta(hours=0.5)\n",
        "                        df_temp=df_event[(df_event['datetime'] >= tbeg) & (df_event['datetime'] < tend)]#### < ou <=\n",
        "                        I30=df_temp['rain_mm'].sum()/0.5 #mm/h #intervalo de 0,5 hrs\n",
        "\n",
        "                        df_event.at[i,'Rf_intensity']=RF_intensity\n",
        "                        df_event.at[i,'RF_KE']=RF_KE\n",
        "                        df_event.at[i,'I30']=I30\n",
        "\n",
        "                #calc ei30\n",
        "                EI30=df_event['RF_KE'].sum()*df_event['I30'].max()\n",
        "                #set partial results\n",
        "                df_partial_result.at[evento,'rain_mm']=df_event['rain_mm'].sum()\n",
        "                df_partial_result.at[evento,'duration']=df_rainfall_events.iloc[evento,3]\n",
        "                df_partial_result.at[evento,'I30']=df_event['I30'].max()\n",
        "                df_partial_result.at[evento,'RF_KE']=df_event['RF_KE'].sum()\n",
        "                df_partial_result.at[evento,'EI30']=EI30\n",
        "\n",
        "            #set final results\n",
        "            EI30_T=df_partial_result['EI30'].sum()\n",
        "            E_D=EI30_T/df_partial_result['rain_mm'].sum()\n",
        "            data[\"gauge_code\"].append(code)\n",
        "            data[\"EI30_T\"].append(EI30_T)\n",
        "            data[\"E_D\"].append(E_D)\n",
        "\n",
        "\n",
        "            end_time = datetime.now()  # Fim do tempo de iteração\n",
        "            print(f\"  -code: {code} , tempo: {(end_time-start_time_code).total_seconds():.2f}s , {len(data['E_D'])}/{len(df_cem_hq[name_col][:-1].dropna())}\")\n",
        "            if  ((end_time-start_time).total_seconds()>3600)&(len(data['E_D'])%20==0):\n",
        "                df_name_col = pd.DataFrame(data)\n",
        "                df_name_col.to_excel(general_path+f'/Results_{name_col}p2.xlsx', index=False)\n",
        "                print('backup_save')\n",
        "\n",
        "        df_name_col = pd.DataFrame(data)\n",
        "        df_name_col.to_excel(general_path+f'/Results_Cemaden/Results_{name_col}p2.xlsx', index=False)\n",
        "        minutes, seconds = divmod((end_time-start_time).total_seconds(), 60)\n",
        "        print(f\"Finalizado: {name_col}, Duração_total: {int(minutes)}m {seconds:.2f}s\")"
      ],
      "metadata": {
        "colab": {
          "base_uri": "https://localhost:8080/"
        },
        "id": "M5qdyLz96WGv",
        "outputId": "7e7d74a6-f625-4042-c735-a624fea9abd0"
      },
      "execution_count": null,
      "outputs": [
        {
          "output_type": "stream",
          "name": "stdout",
          "text": [
            "Começando : TO_ 2014 2025-01-13 06:25:58.381567\n",
            "Finalizado: TO_ 2014, Duração_total: -85m 40.06s\n",
            "Começando : TO_ 2015 2025-01-13 06:25:58.704182\n",
            "Finalizado: TO_ 2015, Duração_total: -85m 39.73s\n",
            "Começando : TO_ 2016 2025-01-13 06:26:02.301165\n",
            "  -code: 170215801A , tempo: 8.84s , 1/5\n",
            "  -code: 170730601A , tempo: 3.52s , 2/5\n",
            "  -code: 171830301A , tempo: 3.25s , 3/5\n",
            "  -code: 171886501A , tempo: 4.40s , 4/5\n",
            "  -code: 172020001A , tempo: 3.82s , 5/5\n",
            "Finalizado: TO_ 2016, Duração_total: 0m 24.87s\n",
            "Começando : TO_ 2017 2025-01-13 06:26:27.201752\n",
            "  -code: 170215801A , tempo: 3.77s , 1/2\n",
            "  -code: 171830301A , tempo: 3.84s , 2/2\n",
            "Finalizado: TO_ 2017, Duração_total: 0m 8.02s\n",
            "Começando : TO_ 2018 2025-01-13 06:26:35.268727\n",
            "  -code: 171886501A , tempo: 5.51s , 1/1\n",
            "Finalizado: TO_ 2018, Duração_total: 0m 6.33s\n",
            "Começando : TO_ 2019 2025-01-13 06:26:41.632468\n",
            "Finalizado: TO_ 2019, Duração_total: -1m 59.97s\n",
            "Começando : TO_ 2020 2025-01-13 06:26:42.974646\n",
            "  -code: 170210901A , tempo: 4.61s , 1/6\n",
            "  -code: 170210902A , tempo: 5.56s , 2/6\n",
            "  -code: 170210903A , tempo: 4.21s , 3/6\n",
            "  -code: 170220801A , tempo: 4.81s , 4/6\n",
            "  -code: 170820501A , tempo: 5.05s , 5/6\n",
            "  -code: 171820401A , tempo: 4.14s , 6/6\n",
            "Finalizado: TO_ 2020, Duração_total: 0m 29.16s\n",
            "Começando : TO_ 2021 2025-01-13 06:27:12.165615\n",
            "  -code: 170210901A , tempo: 6.96s , 1/9\n",
            "  -code: 170210902A , tempo: 6.18s , 2/9\n",
            "  -code: 170210903A , tempo: 5.22s , 3/9\n",
            "  -code: 170220801A , tempo: 7.33s , 4/9\n",
            "  -code: 170820501A , tempo: 4.70s , 5/9\n",
            "  -code: 171820401A , tempo: 7.21s , 6/9\n",
            "  -code: 171830301A , tempo: 6.06s , 7/9\n",
            "  -code: 171886501A , tempo: 7.45s , 8/9\n",
            "  -code: 172210701A , tempo: 5.56s , 9/9\n",
            "Finalizado: TO_ 2021, Duração_total: 0m 57.53s\n",
            "Começando : TO_ 2022 2025-01-13 06:28:09.718240\n",
            "  -code: 170210901A , tempo: 5.81s , 1/9\n",
            "  -code: 170210903A , tempo: 5.40s , 2/9\n",
            "  -code: 170220801A , tempo: 5.00s , 3/9\n",
            "  -code: 171820401A , tempo: 6.15s , 4/9\n",
            "  -code: 171830301A , tempo: 4.59s , 5/9\n",
            "  -code: 171886501A , tempo: 4.99s , 6/9\n",
            "  -code: 172020001A , tempo: 6.07s , 7/9\n",
            "  -code: 172030901A , tempo: 4.38s , 8/9\n",
            "  -code: 172210701A , tempo: 4.99s , 9/9\n",
            "Finalizado: TO_ 2022, Duração_total: 0m 47.99s\n",
            "Começando : TO_ 2023 2025-01-13 06:28:57.734358\n",
            "  -code: 170210901A , tempo: 5.50s , 1/7\n",
            "  -code: 170210903A , tempo: 4.56s , 2/7\n",
            "  -code: 170730601A , tempo: 4.49s , 3/7\n",
            "  -code: 171830301A , tempo: 4.32s , 4/7\n",
            "  -code: 171886501A , tempo: 4.32s , 5/7\n",
            "  -code: 172020001A , tempo: 3.47s , 6/7\n",
            "  -code: 172030901A , tempo: 5.39s , 7/7\n",
            "Finalizado: TO_ 2023, Duração_total: 0m 32.83s\n"
          ]
        }
      ]
    },
    {
      "cell_type": "code",
      "source": [
        "df_name_col = pd.DataFrame(data)\n",
        "df_name_col.to_excel(general_path+f'/Results_Cemaden/Results_{name_col}.xlsx', index=False)"
      ],
      "metadata": {
        "id": "YIZ_4gISbziw"
      },
      "execution_count": null,
      "outputs": []
    },
    {
      "cell_type": "code",
      "source": [],
      "metadata": {
        "id": "lcX-Ni15b2aI"
      },
      "execution_count": null,
      "outputs": []
    }
  ]
}